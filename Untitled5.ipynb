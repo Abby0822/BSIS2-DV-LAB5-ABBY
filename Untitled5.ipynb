{
  "nbformat": 4,
  "nbformat_minor": 0,
  "metadata": {
    "colab": {
      "provenance": [],
      "authorship_tag": "ABX9TyPCBJssy+pmgnmzDyj/N8ur",
      "include_colab_link": true
    },
    "kernelspec": {
      "name": "python3",
      "display_name": "Python 3"
    },
    "language_info": {
      "name": "python"
    }
  },
  "cells": [
    {
      "cell_type": "markdown",
      "metadata": {
        "id": "view-in-github",
        "colab_type": "text"
      },
      "source": [
        "<a href=\"https://colab.research.google.com/github/Abby0822/BSIS2-DV-LAB5-ABBY/blob/BSIS2-DV-LAB1-ABBY/Untitled5.ipynb\" target=\"_parent\"><img src=\"https://colab.research.google.com/assets/colab-badge.svg\" alt=\"Open In Colab\"/></a>"
      ]
    },
    {
      "cell_type": "code",
      "source": [
        "\n",
        "temp = int(input(\"What is the temperature outside? : \"))\n",
        "\n",
        "if temp >= 0 and temp <= 30:\n",
        "  print(\"the temperature is good today\")\n",
        "  print(\"can go outside!\")\n",
        "elif temp < 0 or temp > 30:\n",
        "  print(\"the temperature is bad today!\")\n",
        "  print(\"you must stay inside!\")\n",
        "\n",
        "        #evaluates if temperature is less than 0 or greater than 30 \n",
        "        #try to enter values less than 0 or greater than 30\n",
        "        #it will print the desired output having a bad temperature"
      ],
      "metadata": {
        "id": "s1LIBBY9sJp3"
      },
      "execution_count": null,
      "outputs": []
    }
  ]
}